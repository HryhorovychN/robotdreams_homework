{
 "cells": [
  {
   "cell_type": "code",
   "execution_count": 5,
   "id": "25778105-8165-49e9-a3b6-e9cf3b2c9712",
   "metadata": {},
   "outputs": [
    {
     "name": "stderr",
     "output_type": "stream",
     "text": [
      "Downloading: \"https://github.com/ultralytics/yolov5/zipball/master\" to C:\\Users\\user/.cache\\torch\\hub\\master.zip\n",
      "YOLOv5  2024-8-8 Python-3.12.4 torch-2.3.0 CPU\n",
      "\n",
      "Fusing layers... \n",
      "Model summary: 157 layers, 7020913 parameters, 0 gradients, 15.8 GFLOPs\n",
      "Adding AutoShape... \n"
     ]
    },
    {
     "name": "stdout",
     "output_type": "stream",
     "text": [
      "Results saved to C:\\Users\\user\\Documents\\GitHub\\robotdreams_homework\\project\\test_results\\TVSocket11.jpg\n",
      "Results saved to C:\\Users\\user\\Documents\\GitHub\\robotdreams_homework\\project\\test_results\\TVSocket12.jpg\n",
      "Results saved to C:\\Users\\user\\Documents\\GitHub\\robotdreams_homework\\project\\test_results\\TVSocket13.jpg\n"
     ]
    }
   ],
   "source": [
    "import torch\n",
    "import cv2\n",
    "import numpy as np\n",
    "from pathlib import Path\n",
    "\n",
    "# Путь к обученной модели\n",
    "model_path = r'C:\\Users\\user\\Documents\\GitHub\\robotdreams_homework\\project\\yolov5\\runs\\train\\exp13\\weights\\best.pt'\n",
    "\n",
    "# Загрузка обученной модели YOLOv5\n",
    "model = torch.hub.load('ultralytics/yolov5', 'custom', path=model_path, force_reload=True)\n",
    "model.eval()\n",
    "\n",
    "# Путь к папке с тестовыми изображениями\n",
    "test_images_path = Path(r'C:\\Users\\user\\Documents\\GitHub\\robotdreams_homework\\project\\dataset\\test')\n",
    "\n",
    "# Путь для сохранения результатов\n",
    "results_path = Path(r'C:\\Users\\user\\Documents\\GitHub\\robotdreams_homework\\project\\test_results')\n",
    "results_path.mkdir(exist_ok=True)\n",
    "\n",
    "# Функция для обработки тестовых изображений\n",
    "def detect_objects_on_images():\n",
    "    for image_path in test_images_path.glob('*.jpg'):\n",
    "        # Чтение изображения\n",
    "        img = cv2.imread(str(image_path))\n",
    "\n",
    "        # Выполнение детекции\n",
    "        results = model(img)\n",
    "\n",
    "        # Получение информации о детекции\n",
    "        for result in results.xyxy[0].cpu().numpy():\n",
    "            x1, y1, x2, y2, confidence, class_idx = result\n",
    "            label = f'{model.names[int(class_idx)]} {confidence:.2f}'\n",
    "            # Рисуем прямоугольник вокруг обнаруженного объекта\n",
    "            cv2.rectangle(img, (int(x1), int(y1)), (int(x2), int(y2)), (255, 0, 0), 2)\n",
    "            # Добавляем метку с именем класса и уверенностью\n",
    "            cv2.putText(img, label, (int(x1), int(y1) - 10), cv2.FONT_HERSHEY_SIMPLEX, 0.9, (255, 0, 0), 2)\n",
    "\n",
    "        # Сохранение результата\n",
    "        result_image_path = results_path / image_path.name\n",
    "        cv2.imwrite(str(result_image_path), img)\n",
    "        print(f'Results saved to {result_image_path}')\n",
    "\n",
    "# Запуск функции обработки тестовых изображений\n",
    "detect_objects_on_images()\n"
   ]
  },
  {
   "cell_type": "code",
   "execution_count": null,
   "id": "f747eba6-6546-477a-9ddb-b678861f0e00",
   "metadata": {},
   "outputs": [],
   "source": []
  }
 ],
 "metadata": {
  "kernelspec": {
   "display_name": "Python 3 (ipykernel)",
   "language": "python",
   "name": "python3"
  },
  "language_info": {
   "codemirror_mode": {
    "name": "ipython",
    "version": 3
   },
   "file_extension": ".py",
   "mimetype": "text/x-python",
   "name": "python",
   "nbconvert_exporter": "python",
   "pygments_lexer": "ipython3",
   "version": "3.12.4"
  }
 },
 "nbformat": 4,
 "nbformat_minor": 5
}
