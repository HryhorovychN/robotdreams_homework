{
 "cells": [
  {
   "cell_type": "code",
   "execution_count": 1,
   "id": "0a0cff87-66af-489c-8ef3-42baa2858b35",
   "metadata": {},
   "outputs": [
    {
     "name": "stdout",
     "output_type": "stream",
     "text": [
      "Dataset paths written to train.txt\n"
     ]
    },
    {
     "name": "stderr",
     "output_type": "stream",
     "text": [
      "Using cache found in C:\\Users\\user/.cache\\torch\\hub\\ultralytics_yolov5_master\n",
      "YOLOv5  2024-8-8 Python-3.12.4 torch-2.3.0 CPU\n",
      "\n",
      "Downloading https://github.com/ultralytics/yolov5/releases/download/v7.0/yolov5s.pt to yolov5s.pt...\n",
      "100%|█████████████████████████████████████████████████████████████████████████████| 14.1M/14.1M [00:00<00:00, 22.1MB/s]\n",
      "\n",
      "Fusing layers... \n",
      "YOLOv5s summary: 213 layers, 7225885 parameters, 0 gradients, 16.4 GFLOPs\n",
      "Adding AutoShape... \n"
     ]
    },
    {
     "name": "stdout",
     "output_type": "stream",
     "text": [
      "Model loaded successfully!\n",
      "Data YAML file created\n",
      "Running command: python C:\\Users\\user\\Documents\\GitHub\\robotdreams_homework\\project\\yolov5\\train.py --img 640 --batch 16 --epochs 20 --data C:\\Users\\user\\Documents\\GitHub\\robotdreams_homework\\project\\dataset\\train\\data.yaml --weights yolov5s.pt --cache None\n",
      "Training completed and model weights saved!\n"
     ]
    }
   ],
   "source": [
    "import torch\n",
    "from pathlib import Path\n",
    "import os\n",
    "\n",
    "# Путь к датасету\n",
    "dataset_path = Path(r'C:\\Users\\user\\Documents\\GitHub\\robotdreams_homework\\project\\dataset\\train')\n",
    "\n",
    "# Проверяем, что папки с изображениями и аннотациями существуют\n",
    "assert (dataset_path / 'images').exists(), \"Папка с изображениями не найдена\"\n",
    "assert (dataset_path / 'labels').exists(), \"Папка с аннотациями не найдена\"\n",
    "\n",
    "# Список всех изображений\n",
    "images = list((dataset_path / 'images').glob('*.jpg'))\n",
    "\n",
    "# Запись путей в текстовый файл для тренировочных данных\n",
    "train_txt_path = dataset_path / 'train.txt'\n",
    "\n",
    "with open(train_txt_path, 'w') as f:\n",
    "    for img in images:\n",
    "        f.write(f'{img}\\n')\n",
    "\n",
    "print(\"Dataset paths written to train.txt\")\n",
    "\n",
    "# Загрузка предобученной модели YOLOv5\n",
    "model = torch.hub.load('ultralytics/yolov5', 'yolov5s', pretrained=True)\n",
    "print(\"Model loaded successfully!\")\n",
    "\n",
    "# Настройка данных для обучения\n",
    "data_config = {\n",
    "    'train': str(train_txt_path),\n",
    "    'val': str(train_txt_path),  # Используем тренировочные данные и для валидации\n",
    "    'nc': 4,  # Количество классов\n",
    "    'names': ['Light Switcher', 'Power Outlet', 'Network Outlet', 'TV Socket']\n",
    "}\n",
    "\n",
    "# Создание yaml файла для конфигурации данных\n",
    "data_yaml = dataset_path / 'data.yaml'\n",
    "with open(data_yaml, 'w') as f:\n",
    "    f.write(f'train: {data_config[\"train\"]}\\n')\n",
    "    f.write(f'val: {data_config[\"val\"]}\\n')\n",
    "    f.write(f'nc: {data_config[\"nc\"]}\\n')\n",
    "    f.write(f'names:\\n')\n",
    "    for name in data_config[\"names\"]:\n",
    "        f.write(f'  - {name}\\n')\n",
    "\n",
    "print(\"Data YAML file created\")\n",
    "\n",
    "# Обучение модели с уменьшенным количеством эпох\n",
    "train_command = f'python C:\\\\Users\\\\user\\\\Documents\\\\GitHub\\\\robotdreams_homework\\\\project\\\\yolov5\\\\train.py --img 640 --batch 16 --epochs 20 --data {data_yaml} --weights yolov5s.pt --cache None'\n",
    "print(f\"Running command: {train_command}\")\n",
    "os.system(train_command)\n",
    "\n",
    "print(\"Training completed and model weights saved!\")\n"
   ]
  },
  {
   "cell_type": "code",
   "execution_count": null,
   "id": "dbaa6ad7-56ce-49b9-beb7-67ef1bed2be8",
   "metadata": {},
   "outputs": [],
   "source": []
  }
 ],
 "metadata": {
  "kernelspec": {
   "display_name": "Python 3 (ipykernel)",
   "language": "python",
   "name": "python3"
  },
  "language_info": {
   "codemirror_mode": {
    "name": "ipython",
    "version": 3
   },
   "file_extension": ".py",
   "mimetype": "text/x-python",
   "name": "python",
   "nbconvert_exporter": "python",
   "pygments_lexer": "ipython3",
   "version": "3.12.4"
  }
 },
 "nbformat": 4,
 "nbformat_minor": 5
}
