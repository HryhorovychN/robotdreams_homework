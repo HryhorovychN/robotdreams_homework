{
 "cells": [
  {
   "cell_type": "code",
   "execution_count": 7,
   "id": "4d33a162-6039-4cbb-9d62-625abd22bf91",
   "metadata": {},
   "outputs": [
    {
     "name": "stderr",
     "output_type": "stream",
     "text": [
      "Downloading: \"https://github.com/ultralytics/yolov5/zipball/master\" to C:\\Users\\user/.cache\\torch\\hub\\master.zip\n",
      "YOLOv5  2024-8-8 Python-3.12.4 torch-2.3.0 CPU\n",
      "\n",
      "Fusing layers... \n",
      "Model summary: 157 layers, 7020913 parameters, 0 gradients, 15.8 GFLOPs\n",
      "Adding AutoShape... \n"
     ]
    }
   ],
   "source": [
    "import torch\n",
    "import cv2\n",
    "\n",
    "# Path to the last model weights\n",
    "model_path = r'C:\\Users\\user\\Documents\\GitHub\\robotdreams_homework\\project\\yolov5\\runs\\train\\exp20\\weights\\last.pt'\n",
    "\n",
    "# Load the trained YOLOv5 model\n",
    "model = torch.hub.load('ultralytics/yolov5', 'custom', path=model_path, force_reload=True)\n",
    "model.eval()\n",
    "\n",
    "# Function to process video stream from webcam\n",
    "def detect_objects():\n",
    "    cap = cv2.VideoCapture(1)  # Use the first webcam\n",
    "\n",
    "    while cap.isOpened():\n",
    "        ret, frame = cap.read()\n",
    "        if not ret:\n",
    "            break\n",
    "\n",
    "        # Perform detection\n",
    "        results = model(frame)\n",
    "\n",
    "        # Get detection information and visualize\n",
    "        for result in results.xyxy[0].cpu().numpy():\n",
    "            x1, y1, x2, y2, confidence, class_idx = result\n",
    "            label = f'{model.names[int(class_idx)]} {confidence:.2f}'\n",
    "            cv2.rectangle(frame, (int(x1), int(y1)), (int(x2), int(y2)), (255, 0, 0), 2)\n",
    "            cv2.putText(frame, label, (int(x1), int(y1) - 10), cv2.FONT_HERSHEY_SIMPLEX, 0.9, (255, 0, 0), 2)\n",
    "\n",
    "        # Display video stream\n",
    "        cv2.imshow('Object Detection', frame)\n",
    "\n",
    "        if cv2.waitKey(1) & 0xFF == ord('q'):\n",
    "            break\n",
    "\n",
    "    cap.release()\n",
    "    cv2.destroyAllWindows()\n",
    "\n",
    "# Run detection function\n",
    "detect_objects()\n"
   ]
  },
  {
   "cell_type": "code",
   "execution_count": null,
   "id": "c0506d55-caa9-413f-98d0-514a2e5c3270",
   "metadata": {},
   "outputs": [],
   "source": []
  }
 ],
 "metadata": {
  "kernelspec": {
   "display_name": "Python 3 (ipykernel)",
   "language": "python",
   "name": "python3"
  },
  "language_info": {
   "codemirror_mode": {
    "name": "ipython",
    "version": 3
   },
   "file_extension": ".py",
   "mimetype": "text/x-python",
   "name": "python",
   "nbconvert_exporter": "python",
   "pygments_lexer": "ipython3",
   "version": "3.12.4"
  }
 },
 "nbformat": 4,
 "nbformat_minor": 5
}
