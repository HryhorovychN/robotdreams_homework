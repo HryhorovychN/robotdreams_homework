{
 "cells": [
  {
   "cell_type": "code",
   "execution_count": 1,
   "id": "4c3c9ce2-d8e6-4803-a37e-512ffb9a0293",
   "metadata": {},
   "outputs": [
    {
     "name": "stderr",
     "output_type": "stream",
     "text": [
      "Downloading: \"https://github.com/ultralytics/yolov5/zipball/master\" to C:\\Users\\user/.cache\\torch\\hub\\master.zip\n",
      "YOLOv5  2024-8-8 Python-3.12.4 torch-2.3.0 CPU\n",
      "\n",
      "Fusing layers... \n",
      "Model summary: 157 layers, 7020913 parameters, 0 gradients, 15.8 GFLOPs\n",
      "Adding AutoShape... \n"
     ]
    }
   ],
   "source": [
    "import torch\n",
    "import cv2\n",
    "from pathlib import Path\n",
    "\n",
    "# Path to the trained model\n",
    "model_path = r'C:\\Users\\user\\Documents\\GitHub\\robotdreams_homework\\project\\yolov5\\runs\\train\\exp20\\weights\\best.pt'  # or use last.pt if needed\n",
    "\n",
    "# Load the trained YOLOv5 model\n",
    "model = torch.hub.load('ultralytics/yolov5', 'custom', path=model_path, force_reload=True)\n",
    "model.eval()\n",
    "\n",
    "# Function to process test images\n",
    "def detect_objects_in_images(test_images_folder, results_folder):\n",
    "    images = list(Path(test_images_folder).glob('*.jpg'))\n",
    "    results_folder_path = Path(results_folder)\n",
    "    results_folder_path.mkdir(parents=True, exist_ok=True)\n",
    "    \n",
    "    for img_path in images:\n",
    "        img = cv2.imread(str(img_path))\n",
    "        \n",
    "        # Perform detection\n",
    "        results = model(img)\n",
    "        \n",
    "        # Get detection information and visualize\n",
    "        for result in results.xyxy[0].cpu().numpy():\n",
    "            x1, y1, x2, y2, confidence, class_idx = result\n",
    "            label = f'{model.names[int(class_idx)]} {confidence:.2f}'\n",
    "            cv2.rectangle(img, (int(x1), int(y1)), (int(x2), int(y2)), (255, 0, 0), 2)\n",
    "            cv2.putText(img, label, (int(x1), int(y1) - 10), cv2.FONT_HERSHEY_SIMPLEX, 0.9, (255, 0, 0), 2)\n",
    "        \n",
    "        # Save image with detections\n",
    "        save_path = results_folder_path / img_path.name\n",
    "        cv2.imwrite(str(save_path), img)\n",
    "\n",
    "# Path to the folder with test images\n",
    "test_images_folder = r'C:\\Users\\user\\Documents\\GitHub\\robotdreams_homework\\project\\dataset\\test'\n",
    "results_folder = r'C:\\Users\\user\\Documents\\GitHub\\robotdreams_homework\\project\\test_results'\n",
    "\n",
    "# Run detection on test data and save results\n",
    "detect_objects_in_images(test_images_folder, results_folder)\n"
   ]
  },
  {
   "cell_type": "code",
   "execution_count": null,
   "id": "e6b64b0e-5ae2-4a44-a44c-5605d3a440ae",
   "metadata": {},
   "outputs": [],
   "source": []
  }
 ],
 "metadata": {
  "kernelspec": {
   "display_name": "Python 3 (ipykernel)",
   "language": "python",
   "name": "python3"
  },
  "language_info": {
   "codemirror_mode": {
    "name": "ipython",
    "version": 3
   },
   "file_extension": ".py",
   "mimetype": "text/x-python",
   "name": "python",
   "nbconvert_exporter": "python",
   "pygments_lexer": "ipython3",
   "version": "3.12.4"
  }
 },
 "nbformat": 4,
 "nbformat_minor": 5
}
